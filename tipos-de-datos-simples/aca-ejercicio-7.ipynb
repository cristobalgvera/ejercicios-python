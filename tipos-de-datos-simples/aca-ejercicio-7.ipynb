{
 "cells": [
  {
   "cell_type": "markdown",
   "metadata": {},
   "source": [
    "Escribir un programa que pregunte al usuario por el número de horas trabajadas y el coste por hora. Después debe mostrar por pantalla la paga que le corresponde."
   ]
  },
  {
   "cell_type": "code",
   "execution_count": 4,
   "metadata": {},
   "outputs": [
    {
     "name": "stdout",
     "output_type": "stream",
     "text": [
      "Cantidad de horas trabajadas: 8\n",
      "Coste por hora: $1000\n",
      "PAGO TOTAL: $8000.0\n"
     ]
    }
   ],
   "source": [
    "horasTrabajadas = float(input(\"Cantidad de horas trabajadas: \"))\n",
    "costeHora = float(input(\"Coste por hora: $\"))\n",
    "pagaTotal = horasTrabajadas * costeHora\n",
    "print(\"PAGO TOTAL: $\" + str(pagaTotal))"
   ]
  },
  {
   "cell_type": "code",
   "execution_count": null,
   "metadata": {},
   "outputs": [],
   "source": []
  }
 ],
 "metadata": {
  "kernelspec": {
   "display_name": "Python 3",
   "language": "python",
   "name": "python3"
  },
  "language_info": {
   "codemirror_mode": {
    "name": "ipython",
    "version": 3
   },
   "file_extension": ".py",
   "mimetype": "text/x-python",
   "name": "python",
   "nbconvert_exporter": "python",
   "pygments_lexer": "ipython3",
   "version": "3.7.6"
  }
 },
 "nbformat": 4,
 "nbformat_minor": 4
}
