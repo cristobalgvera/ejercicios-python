{
 "cells": [
  {
   "cell_type": "markdown",
   "metadata": {},
   "source": [
    "Una panadería vende barras de pan a 3.49€ cada una. El pan que no es el día tiene un descuento del 60%. Escribir un programa que comience leyendo el número de barras vendidas que no son del día. Después el programa debe mostrar el precio habitual de una barra de pan, el descuento que se le hace por no ser fresca y el coste final total."
   ]
  },
  {
   "cell_type": "code",
   "execution_count": 6,
   "metadata": {},
   "outputs": [
    {
     "name": "stdout",
     "output_type": "stream",
     "text": [
      "Panes en venta: 5\n",
      "Precio habitual: 17.45€\n",
      "Precio con descuento: 6.98€\n"
     ]
    }
   ],
   "source": [
    "PRECIO_VENTA = 3.49\n",
    "DESCUENTO = 0.6\n",
    "panesVendidos = int(input(\"Panes en venta: \"))\n",
    "precioHabitual = round(panesVendidos * PRECIO_VENTA, 2)\n",
    "precioConDescuento = round(precioHabitual * (1 - DESCUENTO), 2)\n",
    "print(\"Precio habitual: \" + str(precioHabitual) + \"€\")\n",
    "print(\"Precio con descuento: \" + str(precioConDescuento) + \"€\")"
   ]
  },
  {
   "cell_type": "code",
   "execution_count": null,
   "metadata": {},
   "outputs": [],
   "source": []
  }
 ],
 "metadata": {
  "kernelspec": {
   "display_name": "Python 3",
   "language": "python",
   "name": "python3"
  },
  "language_info": {
   "codemirror_mode": {
    "name": "ipython",
    "version": 3
   },
   "file_extension": ".py",
   "mimetype": "text/x-python",
   "name": "python",
   "nbconvert_exporter": "python",
   "pygments_lexer": "ipython3",
   "version": "3.7.6"
  }
 },
 "nbformat": 4,
 "nbformat_minor": 4
}
