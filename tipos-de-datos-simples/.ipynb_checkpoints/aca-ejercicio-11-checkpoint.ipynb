{
 "cells": [
  {
   "cell_type": "markdown",
   "metadata": {},
   "source": [
    "Escribir un programa que pregunte al usuario una cantidad a invertir, el interés anual y el número de años, y muestre por pantalla el capital obtenido en la inversión."
   ]
  },
  {
   "cell_type": "code",
   "execution_count": 5,
   "metadata": {},
   "outputs": [
    {
     "name": "stdout",
     "output_type": "stream",
     "text": [
      "Inversión: $1000\n",
      "Interés: %3\n",
      "Número de periodos: 3\n",
      "Retorno de la inversión: $1092.73\n"
     ]
    }
   ],
   "source": [
    "inversion = float(input(\"Inversión: $\"))\n",
    "interes = float(input(\"Interés: %\"))\n",
    "periodos = int(input(\"Número de periodos: \"))\n",
    "retorno = inversion * (1+interes/100)**periodos # Fórmula interés compuesto\n",
    "print(\"Retorno de la inversión: $\" + str(round(retorno, 2)))"
   ]
  },
  {
   "cell_type": "code",
   "execution_count": null,
   "metadata": {},
   "outputs": [],
   "source": []
  }
 ],
 "metadata": {
  "kernelspec": {
   "display_name": "Python 3",
   "language": "python",
   "name": "python3"
  },
  "language_info": {
   "codemirror_mode": {
    "name": "ipython",
    "version": 3
   },
   "file_extension": ".py",
   "mimetype": "text/x-python",
   "name": "python",
   "nbconvert_exporter": "python",
   "pygments_lexer": "ipython3",
   "version": "3.7.6"
  }
 },
 "nbformat": 4,
 "nbformat_minor": 4
}
