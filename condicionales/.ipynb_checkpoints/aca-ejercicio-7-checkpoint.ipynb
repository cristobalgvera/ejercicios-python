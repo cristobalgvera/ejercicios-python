{
 "cells": [
  {
   "cell_type": "markdown",
   "metadata": {},
   "source": [
    "Los tramos impositivos para la declaración de la renta en un determinado país son los siguientes:\n",
    "\n",
    "Renta\tTipo impositivo\n",
    "Menos de 10000€\t5%\n",
    "Entre 10000€ y 20000€\t15%\n",
    "Entre 200000€ y 35000€\t20%\n",
    "Entre 350000€ y 60000€\t30%\n",
    "Más de 60000€\t45%\n",
    "\n",
    "Escribir un programa que pregunte al usuario su renta anual y muestre por pantalla el tipo impositivo que le corresponde."
   ]
  },
  {
   "cell_type": "code",
   "execution_count": 10,
   "metadata": {},
   "outputs": [
    {
     "name": "stdout",
     "output_type": "stream",
     "text": [
      "Renta anual: $10000\n",
      "Tipo impositivo del 5%\n"
     ]
    }
   ],
   "source": [
    "rentaAnual = float(input(\"Renta anual: $\"))/10000\n",
    "if rentaAnual <= 1:\n",
    "    tipoImpositivo = 5\n",
    "elif rentaAnual <= 2:\n",
    "    tipoImpositivo = 15\n",
    "elif rentaAnual <= 3:\n",
    "    tipoImpositivo = 20\n",
    "elif rentaAnual <= 6:\n",
    "    tipoImpositivo = 30\n",
    "else:\n",
    "    tipoImpositivo = 45\n",
    "print(\"Tipo impositivo del \" + str(tipoImpositivo) + \"%\")"
   ]
  },
  {
   "cell_type": "code",
   "execution_count": null,
   "metadata": {},
   "outputs": [],
   "source": []
  }
 ],
 "metadata": {
  "kernelspec": {
   "display_name": "Python 3",
   "language": "python",
   "name": "python3"
  },
  "language_info": {
   "codemirror_mode": {
    "name": "ipython",
    "version": 3
   },
   "file_extension": ".py",
   "mimetype": "text/x-python",
   "name": "python",
   "nbconvert_exporter": "python",
   "pygments_lexer": "ipython3",
   "version": "3.7.6"
  }
 },
 "nbformat": 4,
 "nbformat_minor": 4
}
