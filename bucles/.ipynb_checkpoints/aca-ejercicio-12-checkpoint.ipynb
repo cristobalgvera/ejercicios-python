{
 "cells": [
  {
   "cell_type": "markdown",
   "metadata": {},
   "source": [
    "Escribir un programa en el que se pregunte al usuario por una frase y una letra, y muestre por pantalla el número de veces que aparece la letra en la frase."
   ]
  },
  {
   "cell_type": "code",
   "execution_count": 2,
   "metadata": {},
   "outputs": [
    {
     "name": "stdout",
     "output_type": "stream",
     "text": [
      "Ingrese una frase: Hola mundo! Esto es una prueba\n",
      "Qué caracter quiere contar: a\n",
      "\n",
      "El caracter se repite 3 veces\n"
     ]
    }
   ],
   "source": [
    "frase = input(\"Ingrese una frase: \")\n",
    "letra = input(\"Qué caracter quiere contar: \")\n",
    "print(\"\\nEl caracter se repite %d veces\" % frase.count(letra))"
   ]
  },
  {
   "cell_type": "code",
   "execution_count": null,
   "metadata": {},
   "outputs": [],
   "source": []
  }
 ],
 "metadata": {
  "kernelspec": {
   "display_name": "Python 3",
   "language": "python",
   "name": "python3"
  },
  "language_info": {
   "codemirror_mode": {
    "name": "ipython",
    "version": 3
   },
   "file_extension": ".py",
   "mimetype": "text/x-python",
   "name": "python",
   "nbconvert_exporter": "python",
   "pygments_lexer": "ipython3",
   "version": "3.7.6"
  }
 },
 "nbformat": 4,
 "nbformat_minor": 4
}
