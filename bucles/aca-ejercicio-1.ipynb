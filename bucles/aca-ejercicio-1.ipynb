{
 "cells": [
  {
   "cell_type": "markdown",
   "metadata": {},
   "source": [
    "Escribir un programa que pida al usuario una palabra y la muestre por pantalla 10 veces."
   ]
  },
  {
   "cell_type": "code",
   "execution_count": 7,
   "metadata": {},
   "outputs": [
    {
     "name": "stdout",
     "output_type": "stream",
     "text": [
      "Ingresa una palabra: Palabra\n",
      "1.\tPalabra\n",
      "2.\tPalabra\n",
      "3.\tPalabra\n",
      "4.\tPalabra\n",
      "5.\tPalabra\n",
      "6.\tPalabra\n",
      "7.\tPalabra\n",
      "8.\tPalabra\n",
      "9.\tPalabra\n",
      "10.\tPalabra\n"
     ]
    }
   ],
   "source": [
    "palabra = input(\"Ingresa una palabra: \")\n",
    "for i in range(10):\n",
    "    print(\"%d.\\t%s\" % (i+1, palabra))"
   ]
  },
  {
   "cell_type": "code",
   "execution_count": null,
   "metadata": {},
   "outputs": [],
   "source": []
  }
 ],
 "metadata": {
  "kernelspec": {
   "display_name": "Python 3",
   "language": "python",
   "name": "python3"
  },
  "language_info": {
   "codemirror_mode": {
    "name": "ipython",
    "version": 3
   },
   "file_extension": ".py",
   "mimetype": "text/x-python",
   "name": "python",
   "nbconvert_exporter": "python",
   "pygments_lexer": "ipython3",
   "version": "3.7.6"
  }
 },
 "nbformat": 4,
 "nbformat_minor": 4
}