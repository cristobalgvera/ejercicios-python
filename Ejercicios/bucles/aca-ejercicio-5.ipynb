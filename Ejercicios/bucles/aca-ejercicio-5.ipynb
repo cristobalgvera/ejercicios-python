{
 "cells": [
  {
   "cell_type": "markdown",
   "metadata": {},
   "source": [
    "Escribir un programa que pregunte al usuario una cantidad a invertir, el interés anual y el número de años, y muestre por pantalla el capital obtenido en la inversión cada año que dura la inversión."
   ]
  },
  {
   "cell_type": "code",
   "execution_count": 8,
   "metadata": {},
   "outputs": [
    {
     "name": "stdout",
     "output_type": "stream",
     "text": [
      "Inversión: $1000\n",
      "Interés anual: 23\n",
      "Periodos: 4\n",
      "Periodo 1.\t $230.00\n",
      "Periodo 2.\t $460.00\n",
      "Periodo 3.\t $690.00\n",
      "Periodo 4.\t $920.00\n"
     ]
    }
   ],
   "source": [
    "inversion = float(input(\"Inversión: $\"))\n",
    "retorno = 0\n",
    "interes = float(input(\"Interés anual: \"))\n",
    "periodos = int(input(\"Periodos: \"))\n",
    "for i in range(periodos):\n",
    "    retorno += inversion * interes / 100\n",
    "    print(\"Periodo %d.\\t$%.2f\" % (i+1, retorno)) # Pensando en interés simple"
   ]
  },
  {
   "cell_type": "code",
   "execution_count": null,
   "metadata": {},
   "outputs": [],
   "source": []
  }
 ],
 "metadata": {
  "kernelspec": {
   "display_name": "Python 3",
   "language": "python",
   "name": "python3"
  },
  "language_info": {
   "codemirror_mode": {
    "name": "ipython",
    "version": 3
   },
   "file_extension": ".py",
   "mimetype": "text/x-python",
   "name": "python",
   "nbconvert_exporter": "python",
   "pygments_lexer": "ipython3",
   "version": "3.7.6"
  }
 },
 "nbformat": 4,
 "nbformat_minor": 4
}
