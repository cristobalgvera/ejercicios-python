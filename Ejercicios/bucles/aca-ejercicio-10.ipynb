{
 "cells": [
  {
   "cell_type": "markdown",
   "metadata": {},
   "source": [
    "Escribir un programa que pida al usuario un número entero y muestre por pantalla si es un número primo o no."
   ]
  },
  {
   "cell_type": "code",
   "execution_count": 13,
   "metadata": {},
   "outputs": [
    {
     "name": "stdout",
     "output_type": "stream",
     "text": [
      "Ingresa un número entero: 101\n",
      "\n",
      "101 es primo\n"
     ]
    }
   ],
   "source": [
    "import math\n",
    "numero = float(input(\"Ingresa un número entero: \"))\n",
    "primo = True\n",
    "for i in range(2, math.floor(numero/2)+1):\n",
    "    if numero % i == 0:\n",
    "        print(\"\\n%d es compuesto\" % numero)\n",
    "        primo = False\n",
    "        break\n",
    "if primo: print(\"\\n%d es primo\" % numero)"
   ]
  },
  {
   "cell_type": "code",
   "execution_count": null,
   "metadata": {},
   "outputs": [],
   "source": []
  }
 ],
 "metadata": {
  "kernelspec": {
   "display_name": "Python 3",
   "language": "python",
   "name": "python3"
  },
  "language_info": {
   "codemirror_mode": {
    "name": "ipython",
    "version": 3
   },
   "file_extension": ".py",
   "mimetype": "text/x-python",
   "name": "python",
   "nbconvert_exporter": "python",
   "pygments_lexer": "ipython3",
   "version": "3.7.6"
  }
 },
 "nbformat": 4,
 "nbformat_minor": 4
}
