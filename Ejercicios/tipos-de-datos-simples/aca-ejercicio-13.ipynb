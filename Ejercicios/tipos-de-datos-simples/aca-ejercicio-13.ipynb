{
 "cells": [
  {
   "cell_type": "markdown",
   "metadata": {},
   "source": [
    "Imagina que acabas de abrir una nueva cuenta de ahorros que te ofrece el 4% de interés al año. Estos ahorros debido a intereses, que no se cobran hasta finales de año, se te añaden al balance final de tu cuenta de ahorros. Escribir un programa que comience leyendo la cantidad de dinero depositada en la cuenta de ahorros, introducida por el usuario. Después el programa debe calcular y mostrar por pantalla la cantidad de ahorros tras el primer, segundo y tercer años. Redondear cada cantidad a dos decimales."
   ]
  },
  {
   "cell_type": "code",
   "execution_count": 4,
   "metadata": {},
   "outputs": [
    {
     "name": "stdout",
     "output_type": "stream",
     "text": [
      "Cantidad de ahorro: $1000\n",
      "Ahorro año 1: $1040.0\n",
      "Ahorro año 2: $1081.6\n",
      "Ahorro año 3: $1124.86\n"
     ]
    }
   ],
   "source": [
    "cantidadAhorrada = float(input(\"Cantidad de ahorro: $\"))\n",
    "INTERES_ANUAL = 0.04\n",
    "for i in range(1,4):\n",
    "    cantidadAhorrada *= (1 + INTERES_ANUAL)\n",
    "    print(\"Ahorro año \" + str(i) + \": $\" + str(round(cantidadAhorrada, 2)))"
   ]
  },
  {
   "cell_type": "code",
   "execution_count": null,
   "metadata": {},
   "outputs": [],
   "source": []
  }
 ],
 "metadata": {
  "kernelspec": {
   "display_name": "Python 3",
   "language": "python",
   "name": "python3"
  },
  "language_info": {
   "codemirror_mode": {
    "name": "ipython",
    "version": 3
   },
   "file_extension": ".py",
   "mimetype": "text/x-python",
   "name": "python",
   "nbconvert_exporter": "python",
   "pygments_lexer": "ipython3",
   "version": "3.7.6"
  }
 },
 "nbformat": 4,
 "nbformat_minor": 4
}
