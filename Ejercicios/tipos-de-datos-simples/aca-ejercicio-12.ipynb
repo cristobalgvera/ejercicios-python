{
 "cells": [
  {
   "cell_type": "markdown",
   "metadata": {},
   "source": [
    "Una juguetería tiene mucho éxito en dos de sus productos: payasos y muñecas. Suele hacer venta por correo y la empresa de logística les cobra por peso de cada paquete así que deben calcular el peso de los payasos y muñecas que saldrán en cada paquete a demanda. Cada payaso pesa 112 g y cada muñeca 75 g. Escribir un programa que lea el número de payasos y muñecas vendidos en el último pedido y calcule el peso total del paquete que será enviado."
   ]
  },
  {
   "cell_type": "code",
   "execution_count": 4,
   "metadata": {},
   "outputs": [
    {
     "name": "stdout",
     "output_type": "stream",
     "text": [
      "Cantidad de payasos pedidos: 14\n",
      "Cantidad de muñecas pedidas: 21\n",
      "Peso total del paquete: 3.143 kg\n"
     ]
    }
   ],
   "source": [
    "cantidadPayasos = int(input(\"Cantidad de payasos pedidos: \"))\n",
    "cantidadMuñecas = int(input(\"Cantidad de muñecas pedidas: \"))\n",
    "pesoPorPayaso = 0.112\n",
    "pesoPorMuñeca = 0.075\n",
    "pesoTotal = cantidadPayasos * pesoPorPayaso + cantidadMuñecas * pesoPorMuñeca\n",
    "print(\"Peso total del paquete: \" + str(pesoTotal) + \" kg\")"
   ]
  },
  {
   "cell_type": "code",
   "execution_count": null,
   "metadata": {},
   "outputs": [],
   "source": []
  }
 ],
 "metadata": {
  "kernelspec": {
   "display_name": "Python 3",
   "language": "python",
   "name": "python3"
  },
  "language_info": {
   "codemirror_mode": {
    "name": "ipython",
    "version": 3
   },
   "file_extension": ".py",
   "mimetype": "text/x-python",
   "name": "python",
   "nbconvert_exporter": "python",
   "pygments_lexer": "ipython3",
   "version": "3.7.6"
  }
 },
 "nbformat": 4,
 "nbformat_minor": 4
}
