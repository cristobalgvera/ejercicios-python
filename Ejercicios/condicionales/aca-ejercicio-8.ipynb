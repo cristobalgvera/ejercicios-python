{
 "cells": [
  {
   "cell_type": "markdown",
   "metadata": {},
   "source": [
    "En una determinada empresa, sus empleados son evaluados al final de cada año. Los puntos que pueden obtener en la evaluación comienzan en 0.0 y pueden ir aumentando, traduciéndose en mejores beneficios. Los puntos que pueden conseguir los empleados pueden ser 0.0, 0.4, 0.6 o más, pero no valores intermedios entre las cifras mencionadas. A continuación se muestra una tabla con los niveles correspondientes a cada puntuación. La cantidad de dinero conseguida en cada nivel es de 2.400€ multiplicada por la puntuación del nivel.\n",
    "\n",
    "Nivel\tPuntuación\n",
    "Inaceptable\t0.0\n",
    "Aceptable\t0.4\n",
    "Meritorio\t0.6 o más\n",
    "Escribir un programa que lea la puntuación del usuario e indique su nivel de rendimiento, así como la cantidad de dinero que recibirá el usuario."
   ]
  },
  {
   "cell_type": "code",
   "execution_count": 33,
   "metadata": {},
   "outputs": [
    {
     "name": "stdout",
     "output_type": "stream",
     "text": [
      "Puntuación: 1\n",
      "Rendimiento: Meritorio\n",
      "Dinero obtenido: $2400.00\n"
     ]
    }
   ],
   "source": [
    "puntuaciones = [[\"Inaceptable\", 0.0], [\"Aceptable\", 0.4], [\"Meritorio\", 0.6]]\n",
    "puntuacionPersonal = float(input(\"Puntuación: \"))\n",
    "for i, nivel in enumerate(puntuaciones):\n",
    "    # print(\"i: %d nivel: %s puntuacion: %f\" % (i,nivel[0],nivel[1]))\n",
    "    if puntuacionPersonal == puntuacion or (True if (puntuacionPersonal > 0.6 and i == 2) else False):\n",
    "        dineroObtenido = 2400 * puntuacionPersonal\n",
    "        print(\"Rendimiento: %s\\nDinero obtenido: $%.2f\" % (nivel[0], dineroObtenido))\n",
    "        break\n",
    "    elif i == 2:\n",
    "        print(\"Puntaje %.1f ingresado no es válido\" % puntuacionPersonal)"
   ]
  }
 ],
 "metadata": {
  "kernelspec": {
   "display_name": "Python 3",
   "language": "python",
   "name": "python3"
  },
  "language_info": {
   "codemirror_mode": {
    "name": "ipython",
    "version": 3
   },
   "file_extension": ".py",
   "mimetype": "text/x-python",
   "name": "python",
   "nbconvert_exporter": "python",
   "pygments_lexer": "ipython3",
   "version": "3.7.6"
  }
 },
 "nbformat": 4,
 "nbformat_minor": 4
}
