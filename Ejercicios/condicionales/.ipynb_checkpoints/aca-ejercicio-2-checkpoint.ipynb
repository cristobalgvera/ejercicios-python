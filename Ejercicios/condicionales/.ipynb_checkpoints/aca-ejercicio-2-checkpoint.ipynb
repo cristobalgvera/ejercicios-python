{
 "cells": [
  {
   "cell_type": "markdown",
   "metadata": {},
   "source": [
    "Escribir un programa que almacene la cadena de caracteres \"contraseña\" en una variable, pregunte al usuario por la contraseña e imprima por pantalla si la contraseña introducida por el usuario coincide con la guardada en la variable sin tener en cuenta mayúsculas y minúsculas."
   ]
  },
  {
   "cell_type": "code",
   "execution_count": 3,
   "metadata": {},
   "outputs": [
    {
     "name": "stdout",
     "output_type": "stream",
     "text": [
      "Ingrese su contraseña: wod\n",
      "Contraseña incorrecta\n"
     ]
    }
   ],
   "source": [
    "contraseñaGuardada = \"contraseña\"\n",
    "contraseña = input(\"Ingrese su contraseña: \")\n",
    "if contraseña.upper() == contraseñaGuardada.upper():\n",
    "    print(\"Contraseña correcta\")\n",
    "else:\n",
    "    print(\"Contraseña incorrecta\")"
   ]
  },
  {
   "cell_type": "code",
   "execution_count": null,
   "metadata": {},
   "outputs": [],
   "source": []
  }
 ],
 "metadata": {
  "kernelspec": {
   "display_name": "Python 3",
   "language": "python",
   "name": "python3"
  },
  "language_info": {
   "codemirror_mode": {
    "name": "ipython",
    "version": 3
   },
   "file_extension": ".py",
   "mimetype": "text/x-python",
   "name": "python",
   "nbconvert_exporter": "python",
   "pygments_lexer": "ipython3",
   "version": "3.7.6"
  }
 },
 "nbformat": 4,
 "nbformat_minor": 4
}
