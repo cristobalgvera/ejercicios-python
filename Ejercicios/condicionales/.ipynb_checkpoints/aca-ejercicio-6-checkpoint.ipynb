{
 "cells": [
  {
   "cell_type": "markdown",
   "metadata": {},
   "source": [
    "Los alumnos de un curso se han dividido en dos grupos A y B de acuerdo al sexo y el nombre. El grupo A esta formado por las mujeres con un nombre anterior a la M y los hombres con un nombre posterior a la N y el grupo B por el resto. Escribir un programa que pregunte al usuario su nombre y sexo, y muestre por pantalla el grupo que le corresponde."
   ]
  },
  {
   "cell_type": "code",
   "execution_count": 2,
   "metadata": {},
   "outputs": [
    {
     "name": "stdout",
     "output_type": "stream",
     "text": [
      "Nombre: Pablo\n",
      "Ingresa tu sexo ('H/M'): h\n",
      "Eres del grupo B\n"
     ]
    }
   ],
   "source": [
    "nombre = input(\"Nombre: \")\n",
    "sexo = input(\"Ingresa tu sexo ('H/M'): \")\n",
    "mCurso = sexo.upper() == \"M\" and nombre[0].upper() < \"M\"\n",
    "hCurso = sexo.upper() == \"H\" and nombre[0].upper() < \"N\"\n",
    "if mCurso or hCurso:\n",
    "    print(\"Eres del grupo A\")\n",
    "else:\n",
    "    print(\"Eres del grupo B\")"
   ]
  },
  {
   "cell_type": "code",
   "execution_count": null,
   "metadata": {},
   "outputs": [],
   "source": []
  }
 ],
 "metadata": {
  "kernelspec": {
   "display_name": "Python 3",
   "language": "python",
   "name": "python3"
  },
  "language_info": {
   "codemirror_mode": {
    "name": "ipython",
    "version": 3
   },
   "file_extension": ".py",
   "mimetype": "text/x-python",
   "name": "python",
   "nbconvert_exporter": "python",
   "pygments_lexer": "ipython3",
   "version": "3.7.6"
  }
 },
 "nbformat": 4,
 "nbformat_minor": 4
}
