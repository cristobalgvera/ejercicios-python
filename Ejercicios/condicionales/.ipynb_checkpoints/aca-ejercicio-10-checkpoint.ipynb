{
 "cells": [
  {
   "cell_type": "markdown",
   "metadata": {},
   "source": [
    "La pizzería Bella Napoli ofrece pizzas vegetarianas y no vegetarianas a sus clientes. Los ingredientes para cada tipo de pizza aparecen a continuación.\n",
    "\n",
    "Ingredientes vegetarianos: Pimiento y tofu.\n",
    "Ingredientes no vegetarianos: Peperoni, Jamón y Salmón.\n",
    "Escribir un programa que pregunte al usuario si quiere una pizza vegetariana o no, y en función de su respuesta le muestre un menú con los ingredientes disponibles para que elija. Solo se puede eligir un ingrediente además de la mozzarella y el tomate que están en todas la pizzas. Al final se debe mostrar por pantalla si la pizza elegida es vegetariana o no y todos los ingredientes que lleva."
   ]
  },
  {
   "cell_type": "code",
   "execution_count": 4,
   "metadata": {},
   "outputs": [
    {
     "name": "stdout",
     "output_type": "stream",
     "text": [
      "Todas las pizzas traen:\n",
      "- Mozzarella\n",
      "- Tomate\n",
      "\n",
      "¿Qué ingrediente desea agregar?\n",
      "1. Pimiento\n",
      "2. Tofu\n",
      "3. Pepperoni\n",
      "4. Jamón\n",
      "5. Salmón\n",
      "\n",
      "4\n",
      "\n",
      "Usted a elegido una pizza no vegetariana\n",
      "\n",
      "Ingredientes:\n",
      "- Mozzarella\n",
      "- Tomate\n",
      "- Jamón\n"
     ]
    }
   ],
   "source": [
    "INGREDIENTES = {\"base\" : [\"Mozzarella\", \"Tomate\"], \"Vegetariana\" : [\"Pimiento\", \"Tofu\"], \"No vegetariana\" : [\"Pepperoni\", \"Jamón\", \"Salmón\"]}\n",
    "print(\"Todas las pizzas traen:\\n- %s\\n- %s\\n\\n¿Qué ingrediente desea agregar?\" % (INGREDIENTES[\"base\"][0], INGREDIENTES[\"base\"][1]))\n",
    "numeroLista = 0\n",
    "listaIngrediente = []\n",
    "for i, (categoria, ingredientes) in enumerate(INGREDIENTES.items()):\n",
    "    if i > 0:\n",
    "        for ingrediente in ingredientes:\n",
    "            numeroLista += 1\n",
    "            listaIngrediente.append([categoria, ingrediente])\n",
    "            print(\"%d. %s\" % (numeroLista, ingrediente))\n",
    "numeroLista = int(input(\"\\n\"))\n",
    "print(\"\\nUsted a elegido una pizza %s\" % listaIngrediente[numeroLista - 1][0].lower())\n",
    "print(\"\\nIngredientes:\\n- %s\\n- %s\\n- %s\" % (INGREDIENTES[\"base\"][0], INGREDIENTES[\"base\"][1], listaIngrediente[numeroLista - 1][1]))"
   ]
  },
  {
   "cell_type": "code",
   "execution_count": null,
   "metadata": {},
   "outputs": [],
   "source": []
  }
 ],
 "metadata": {
  "kernelspec": {
   "display_name": "Python 3",
   "language": "python",
   "name": "python3"
  },
  "language_info": {
   "codemirror_mode": {
    "name": "ipython",
    "version": 3
   },
   "file_extension": ".py",
   "mimetype": "text/x-python",
   "name": "python",
   "nbconvert_exporter": "python",
   "pygments_lexer": "ipython3",
   "version": "3.7.6"
  }
 },
 "nbformat": 4,
 "nbformat_minor": 4
}
