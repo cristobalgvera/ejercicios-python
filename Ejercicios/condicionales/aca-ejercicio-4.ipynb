{
 "cells": [
  {
   "cell_type": "markdown",
   "metadata": {},
   "source": [
    "Escribir un programa que pida al usuario un número entero y muestre por pantalla si es par o impar."
   ]
  },
  {
   "cell_type": "code",
   "execution_count": 3,
   "metadata": {},
   "outputs": [
    {
     "name": "stdout",
     "output_type": "stream",
     "text": [
      "Ingresa un número: 2.3\n",
      "Un número decimal no puede considerarse par o impar\n"
     ]
    }
   ],
   "source": [
    "numero = float(input(\"Ingresa un número: \"))\n",
    "if numero % 2 == 0:\n",
    "    print(\"Número par\")\n",
    "elif numero % 2 == 1:\n",
    "    print(\"Número impar\")\n",
    "else:\n",
    "    print(\"Un número decimal no puede considerarse par o impar\")"
   ]
  },
  {
   "cell_type": "code",
   "execution_count": null,
   "metadata": {
    "collapsed": true
   },
   "outputs": [],
   "source": []
  }
 ],
 "metadata": {
  "kernelspec": {
   "display_name": "Python 3",
   "language": "python",
   "name": "python3"
  },
  "language_info": {
   "codemirror_mode": {
    "name": "ipython",
    "version": 3
   },
   "file_extension": ".py",
   "mimetype": "text/x-python",
   "name": "python",
   "nbconvert_exporter": "python",
   "pygments_lexer": "ipython3",
   "version": "3.7.6"
  }
 },
 "nbformat": 4,
 "nbformat_minor": 4
}
